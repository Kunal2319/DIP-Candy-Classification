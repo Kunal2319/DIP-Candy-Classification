{
 "cells": [
  {
   "cell_type": "code",
   "execution_count": 22,
   "metadata": {},
   "outputs": [],
   "source": [
    "import os\n",
    "import tensorflow as tf\n",
    "import numpy as np\n",
    "import numpy as np\n",
    "import tensorflow as tf\n",
    "from tensorflow.keras.utils import to_categorical\n",
    "from tensorflow.keras.models import Model\n",
    "from tensorflow.keras.layers import Input, Conv2D, MaxPooling2D, Flatten, Dense, Dropout\n",
    "from tensorflow.keras.optimizers import Adam"
   ]
  },
  {
   "cell_type": "code",
   "execution_count": 10,
   "metadata": {},
   "outputs": [],
   "source": [
    "base_dir = os.getcwd()\n",
    "dataset_dir = os.path.join(base_dir, 'dataset', '3 - normalized')\n",
    "\n",
    "dataset = CandyDataset(dataset_dir)\n",
    "dataset.split_dataset()"
   ]
  },
  {
   "cell_type": "code",
   "execution_count": 11,
   "metadata": {},
   "outputs": [],
   "source": [
    "train_set_data = dataset.get_images_data(dataset.data_split['train'])\n",
    "test_set_data  = dataset.get_images_data(dataset.data_split['test'])\n",
    "validation_set_data  = dataset.get_images_data(dataset.data_split['val'])\n",
    "\n",
    "def prepare_data(data, num_classes):\n",
    "    # Normalizar imagens e criar arrays\n",
    "    images = np.array([d['image'] for d in data]) / 255.0 \n",
    "    labels = to_categorical(np.array([d['category_id'] - 1 for d in data]), num_classes)\n",
    "    masks = np.array([d['mask'] for d in data]) \n",
    "    bboxes = np.array([d['bbox'] for d in data]) \n",
    "\n",
    "    return images, masks, labels, bboxes\n",
    "\n",
    "num_classes = 10  \n",
    "\n",
    "# Preparar os dados\n",
    "X_train, masks_train, y_train, bboxes_train = prepare_data(train_set_data, num_classes)\n",
    "X_val, masks_val, y_val, bboxes_val = prepare_data(validation_set_data, num_classes)\n",
    "X_test, masks_test, y_test, bboxes_test = prepare_data(test_set_data, num_classes)\n"
   ]
  },
  {
   "cell_type": "code",
   "execution_count": 12,
   "metadata": {},
   "outputs": [],
   "source": [
    "gpus = tf.config.experimental.list_physical_devices('GPU')\n",
    "for gpu in gpus: \n",
    "    tf.config.experimental.set_memory_growth(gpu, True)"
   ]
  },
  {
   "cell_type": "code",
   "execution_count": 13,
   "metadata": {},
   "outputs": [
    {
     "data": {
      "text/plain": [
       "[]"
      ]
     },
     "execution_count": 13,
     "metadata": {},
     "output_type": "execute_result"
    }
   ],
   "source": [
    "tf.config.list_physical_devices('GPU')"
   ]
  },
  {
   "cell_type": "code",
   "execution_count": 17,
   "metadata": {},
   "outputs": [],
   "source": [
    "kernel = (5, 5)\n",
    "pool = (2, 2)\n",
    "num_classes = 10\n",
    "\n",
    "inputs = Input(shape=(256, 256, 3))\n",
    "\n",
    "x = Conv2D(16, (3, 3), padding='same', activation='relu')(inputs)\n",
    "x = MaxPooling2D(pool_size=(2, 2))(x)\n",
    "x = Conv2D(32, (3, 3), padding='same', activation='relu')(x)\n",
    "x = MaxPooling2D(pool_size=(2, 2))(x)\n",
    "x = Conv2D(64, (3, 3), padding='same', activation='relu')(x)\n",
    "x = MaxPooling2D(pool_size=(2, 2))(x)\n",
    "x = Conv2D(128, (3, 3), padding='same', activation='relu')(x)\n",
    "x = MaxPooling2D(pool_size=(2, 2))(x)\n",
    "\n",
    "# Classification output\n",
    "x_class = Flatten()(x)\n",
    "x_class = Dense(128, activation='relu')(x_class)\n",
    "x_class = Dropout(0.5)(x_class)\n",
    "outputs_class = Dense(num_classes, activation='softmax', name='classification')(x_class)\n",
    "\n",
    "# Segmentation output\n",
    "x_seg = Conv2D(128, (3, 3), padding='same', activation='relu')(x)\n",
    "outputs_seg = Conv2D(num_classes, (1, 1), activation='softmax', name='segmentation')(x_seg)\n",
    "\n",
    "# Bounding boxes output\n",
    "x_bbox = Flatten()(x)\n",
    "outputs_bbox = Dense(4, activation='linear', name='bounding_boxes')(x_bbox)\n",
    "\n",
    "model = Model(inputs=inputs, outputs=[outputs_class, outputs_seg, outputs_bbox])\n"
   ]
  },
  {
   "cell_type": "code",
   "execution_count": 24,
   "metadata": {},
   "outputs": [],
   "source": [
    "model.compile(optimizer=Adam(), \n",
    "              loss={'dense': 'categorical_crossentropy', 'conv2d_2': 'sparse_categorical_crossentropy'}, \n",
    "              metrics={'dense': 'accuracy', 'conv2d_2': 'accuracy'})"
   ]
  },
  {
   "cell_type": "code",
   "execution_count": 25,
   "metadata": {},
   "outputs": [
    {
     "name": "stdout",
     "output_type": "stream",
     "text": [
      "Epoch 1/10\n"
     ]
    },
    {
     "name": "stderr",
     "output_type": "stream",
     "text": [
      "\n",
      "KeyboardInterrupt\n",
      "\n"
     ]
    }
   ],
   "source": [
    "history = model.fit(X_train, \n",
    "                    {'dense': y_train, 'conv2d_2': masks_train}, \n",
    "                    validation_data=(X_val, {'dense': y_val, 'conv2d_2': masks_val}), \n",
    "                    epochs=10, \n",
    "                    batch_size=32)"
   ]
  },
  {
   "cell_type": "code",
   "execution_count": null,
   "metadata": {},
   "outputs": [],
   "source": [
    "test_loss, test_acc = model.evaluate(X_test, {'dense': y_test, 'conv2d_2': masks_test, 'dense_2': bboxes_test})\n",
    "print('Test accuracy:', test_acc)"
   ]
  },
  {
   "cell_type": "code",
   "execution_count": null,
   "metadata": {},
   "outputs": [],
   "source": [
    "import matplotlib.pyplot as plt"
   ]
  },
  {
   "cell_type": "code",
   "execution_count": null,
   "metadata": {},
   "outputs": [],
   "source": [
    "# Plot loss\n",
    "plt.figure(figsize=(12, 6))\n",
    "\n",
    "# Plot total loss and individual losses\n",
    "plt.subplot(1, 2, 1)\n",
    "plt.plot(history.history['loss'], label='Total Loss')\n",
    "plt.plot(history.history['dense_loss'], label='Classification Loss')\n",
    "plt.plot(history.history['conv2d_2_loss'], label='Segmentation Loss')\n",
    "plt.plot(history.history['dense_2_loss'], label='Bounding Boxes Loss')\n",
    "plt.title('Loss')\n",
    "plt.xlabel('Epoch')\n",
    "plt.ylabel('Loss')\n",
    "plt.legend()\n",
    "\n",
    "# Plot accuracy\n",
    "plt.subplot(1, 2, 2)\n",
    "plt.plot(history.history['dense_accuracy'], label='Classification Accuracy')\n",
    "plt.plot(history.history['conv2d_2_accuracy'], label='Segmentation Accuracy')\n",
    "plt.title('Accuracy')\n",
    "plt.xlabel('Epoch')\n",
    "plt.ylabel('Accuracy')\n",
    "plt.legend()\n",
    "\n",
    "plt.tight_layout()\n",
    "plt.show()"
   ]
  },
  {
   "cell_type": "code",
   "execution_count": null,
   "metadata": {},
   "outputs": [],
   "source": [
    "plt.figure(figsize=(12, 6))\n",
    "\n",
    "# Plot segmentation loss\n",
    "plt.subplot(1, 2, 1)\n",
    "plt.plot(history.history['conv2d_2_loss'], label='Segmentation Loss')\n",
    "plt.title('Segmentation Loss')\n",
    "plt.xlabel('Epoch')\n",
    "plt.ylabel('Loss')\n",
    "plt.legend()\n",
    "\n",
    "# Plot bounding boxes loss\n",
    "plt.subplot(1, 2, 2)\n",
    "plt.plot(history.history['dense_2_loss'], label='Bounding Boxes Loss')\n",
    "plt.title('Bounding Boxes Loss')\n",
    "plt.xlabel('Epoch')\n",
    "plt.ylabel('Loss')\n",
    "plt.legend()\n",
    "\n",
    "plt.tight_layout()\n",
    "plt.show()"
   ]
  }
 ],
 "metadata": {
  "kernelspec": {
   "display_name": "Python 3",
   "language": "python",
   "name": "python3"
  },
  "language_info": {
   "codemirror_mode": {
    "name": "ipython",
    "version": 3
   },
   "file_extension": ".py",
   "mimetype": "text/x-python",
   "name": "python",
   "nbconvert_exporter": "python",
   "pygments_lexer": "ipython3",
   "version": "3.9.18"
  }
 },
 "nbformat": 4,
 "nbformat_minor": 2
}
